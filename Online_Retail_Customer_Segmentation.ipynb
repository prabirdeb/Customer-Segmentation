{
  "nbformat": 4,
  "nbformat_minor": 0,
  "metadata": {
    "kernelspec": {
      "display_name": "Python 3",
      "language": "python",
      "name": "python3"
    },
    "language_info": {
      "codemirror_mode": {
        "name": "ipython",
        "version": 3
      },
      "file_extension": ".py",
      "mimetype": "text/x-python",
      "name": "python",
      "nbconvert_exporter": "python",
      "pygments_lexer": "ipython3",
      "version": "3.6.6"
    },
    "colab": {
      "name": "Online Retail Customer Segmentation.ipynb",
      "provenance": [],
      "collapsed_sections": [],
      "include_colab_link": true
    }
  },
  "cells": [
    {
      "cell_type": "markdown",
      "metadata": {
        "id": "view-in-github",
        "colab_type": "text"
      },
      "source": [
        "<a href=\"https://colab.research.google.com/github/prabirdeb/Customer-Segmentation/blob/main/Online_Retail_Customer_Segmentation.ipynb\" target=\"_parent\"><img src=\"https://colab.research.google.com/assets/colab-badge.svg\" alt=\"Open In Colab\"/></a>"
      ]
    },
    {
      "cell_type": "markdown",
      "metadata": {
        "id": "tOGC-qoyhJeX"
      },
      "source": [
        "# <b><u> Project Title : Extraction/identification of major topics & themes discussed in news articles. </u></b>"
      ]
    },
    {
      "cell_type": "markdown",
      "metadata": {
        "id": "Y06xIdG26kRF"
      },
      "source": [
        "## <b> Problem Description </b>\n",
        "\n",
        "### In this project, your task is to identify major customer segments on a transnational data set which contains all the transactions occurring between 01/12/2010 and 09/12/2011 for a UK-based and registered non-store online retail.The company mainly sells unique all-occasion gifts. Many customers of the company are wholesalers."
      ]
    },
    {
      "cell_type": "markdown",
      "metadata": {
        "id": "AlLxAtlziMbP"
      },
      "source": [
        "## <b> Data Description </b>\n",
        "\n",
        "### <b>Attribute Information: </b>\n",
        "\n",
        "* ### InvoiceNo: Invoice number. Nominal, a 6-digit integral number uniquely assigned to each transaction. If this code starts with letter 'c', it indicates a cancellation.\n",
        "* ### StockCode: Product (item) code. Nominal, a 5-digit integral number uniquely assigned to each distinct product.\n",
        "* ### Description: Product (item) name. Nominal.\n",
        "* ### Quantity: The quantities of each product (item) per transaction. Numeric.\n",
        "* ### InvoiceDate: Invice Date and time. Numeric, the day and time when each transaction was generated.\n",
        "* ### UnitPrice: Unit price. Numeric, Product price per unit in sterling.\n",
        "* ### CustomerID: Customer number. Nominal, a 5-digit integral number uniquely assigned to each customer.\n",
        "* ### Country: Country name. Nominal, the name of the country where each customer resides."
      ]
    },
    {
      "cell_type": "markdown",
      "source": [
        "# **Steps of Exploratory Data Analysis (EDA)**"
      ],
      "metadata": {
        "id": "TQ5DxlZMdINN"
      }
    },
    {
      "cell_type": "markdown",
      "source": [
        "**1. Data or EXPERIENCE**\n",
        "\n",
        "Here, we are provided with a dataset of online retail customers.\n",
        "\n",
        "Thus, the dataset is actually a collection of experiences about online retail customers. \n",
        "\n",
        "Now, we need to **decode the set of experiences** to help in building a model for customer segmentation.\n",
        "\n",
        "At first, we import the libraries or functions for **making our journey easy** and then **get connected** to the set of experiences."
      ],
      "metadata": {
        "id": "Xd6Gof1ZdLhh"
      }
    },
    {
      "cell_type": "code",
      "metadata": {
        "id": "dByMsuzT8Tnw"
      },
      "source": [
        "#importing libraries\n",
        "import numpy as np\n",
        "import pandas as pd\n",
        "from termcolor import colored"
      ],
      "execution_count": 1,
      "outputs": []
    },
    {
      "cell_type": "code",
      "source": [
        "from google.colab import drive\n",
        "drive.mount('/content/drive')"
      ],
      "metadata": {
        "colab": {
          "base_uri": "https://localhost:8080/"
        },
        "id": "6RyJzonLze5e",
        "outputId": "8ac4070f-f20b-4e17-971b-fdc8e7e0312f"
      },
      "execution_count": 2,
      "outputs": [
        {
          "output_type": "stream",
          "name": "stdout",
          "text": [
            "Mounted at /content/drive\n"
          ]
        }
      ]
    },
    {
      "cell_type": "code",
      "source": [
        "xls = pd.ExcelFile('/content/drive/MyDrive/Almabetter Assignments/Capstone projects/Customer Segmentation-Prabir Debnath/Online Retail.xlsx')"
      ],
      "metadata": {
        "id": "2RNZWz6bzhMR"
      },
      "execution_count": 3,
      "outputs": []
    },
    {
      "cell_type": "code",
      "source": [
        "xls.sheet_names"
      ],
      "metadata": {
        "colab": {
          "base_uri": "https://localhost:8080/"
        },
        "id": "dZF8Er8fz73N",
        "outputId": "7345931b-4030-407e-ffbe-2e189421282c"
      },
      "execution_count": 4,
      "outputs": [
        {
          "output_type": "execute_result",
          "data": {
            "text/plain": [
              "['Online Retail']"
            ]
          },
          "metadata": {},
          "execution_count": 4
        }
      ]
    },
    {
      "cell_type": "code",
      "source": [
        "# Reading the data as pandas dataframe\n",
        "customer_df = pd.read_excel(xls, 'Online Retail')"
      ],
      "metadata": {
        "id": "RsSnezz_0IpH"
      },
      "execution_count": 5,
      "outputs": []
    },
    {
      "cell_type": "markdown",
      "source": [
        "**2. Features or \"DHARMA\":**\n",
        "\n",
        "Here, the columns are the set of features, showing the way to reach final decoded experience or conclusions.  \n",
        "\n",
        "As there is a huge no. of experiences, we cannot see the whole lot of experiences and therefore we find the features on the **data head**."
      ],
      "metadata": {
        "id": "K4E5pZswH2Fw"
      }
    },
    {
      "cell_type": "code",
      "source": [
        "customer_df.head(2)"
      ],
      "metadata": {
        "colab": {
          "base_uri": "https://localhost:8080/",
          "height": 191
        },
        "id": "DdL1Fg4p0env",
        "outputId": "90bd3207-fefc-4720-a6fe-68cfc928e2a2"
      },
      "execution_count": 6,
      "outputs": [
        {
          "output_type": "execute_result",
          "data": {
            "text/html": [
              "\n",
              "  <div id=\"df-fe46ebc5-4c34-46eb-b367-a5d25c9d9e36\">\n",
              "    <div class=\"colab-df-container\">\n",
              "      <div>\n",
              "<style scoped>\n",
              "    .dataframe tbody tr th:only-of-type {\n",
              "        vertical-align: middle;\n",
              "    }\n",
              "\n",
              "    .dataframe tbody tr th {\n",
              "        vertical-align: top;\n",
              "    }\n",
              "\n",
              "    .dataframe thead th {\n",
              "        text-align: right;\n",
              "    }\n",
              "</style>\n",
              "<table border=\"1\" class=\"dataframe\">\n",
              "  <thead>\n",
              "    <tr style=\"text-align: right;\">\n",
              "      <th></th>\n",
              "      <th>InvoiceNo</th>\n",
              "      <th>StockCode</th>\n",
              "      <th>Description</th>\n",
              "      <th>Quantity</th>\n",
              "      <th>InvoiceDate</th>\n",
              "      <th>UnitPrice</th>\n",
              "      <th>CustomerID</th>\n",
              "      <th>Country</th>\n",
              "    </tr>\n",
              "  </thead>\n",
              "  <tbody>\n",
              "    <tr>\n",
              "      <th>0</th>\n",
              "      <td>536365</td>\n",
              "      <td>85123A</td>\n",
              "      <td>WHITE HANGING HEART T-LIGHT HOLDER</td>\n",
              "      <td>6</td>\n",
              "      <td>2010-12-01 08:26:00</td>\n",
              "      <td>2.55</td>\n",
              "      <td>17850.0</td>\n",
              "      <td>United Kingdom</td>\n",
              "    </tr>\n",
              "    <tr>\n",
              "      <th>1</th>\n",
              "      <td>536365</td>\n",
              "      <td>71053</td>\n",
              "      <td>WHITE METAL LANTERN</td>\n",
              "      <td>6</td>\n",
              "      <td>2010-12-01 08:26:00</td>\n",
              "      <td>3.39</td>\n",
              "      <td>17850.0</td>\n",
              "      <td>United Kingdom</td>\n",
              "    </tr>\n",
              "  </tbody>\n",
              "</table>\n",
              "</div>\n",
              "      <button class=\"colab-df-convert\" onclick=\"convertToInteractive('df-fe46ebc5-4c34-46eb-b367-a5d25c9d9e36')\"\n",
              "              title=\"Convert this dataframe to an interactive table.\"\n",
              "              style=\"display:none;\">\n",
              "        \n",
              "  <svg xmlns=\"http://www.w3.org/2000/svg\" height=\"24px\"viewBox=\"0 0 24 24\"\n",
              "       width=\"24px\">\n",
              "    <path d=\"M0 0h24v24H0V0z\" fill=\"none\"/>\n",
              "    <path d=\"M18.56 5.44l.94 2.06.94-2.06 2.06-.94-2.06-.94-.94-2.06-.94 2.06-2.06.94zm-11 1L8.5 8.5l.94-2.06 2.06-.94-2.06-.94L8.5 2.5l-.94 2.06-2.06.94zm10 10l.94 2.06.94-2.06 2.06-.94-2.06-.94-.94-2.06-.94 2.06-2.06.94z\"/><path d=\"M17.41 7.96l-1.37-1.37c-.4-.4-.92-.59-1.43-.59-.52 0-1.04.2-1.43.59L10.3 9.45l-7.72 7.72c-.78.78-.78 2.05 0 2.83L4 21.41c.39.39.9.59 1.41.59.51 0 1.02-.2 1.41-.59l7.78-7.78 2.81-2.81c.8-.78.8-2.07 0-2.86zM5.41 20L4 18.59l7.72-7.72 1.47 1.35L5.41 20z\"/>\n",
              "  </svg>\n",
              "      </button>\n",
              "      \n",
              "  <style>\n",
              "    .colab-df-container {\n",
              "      display:flex;\n",
              "      flex-wrap:wrap;\n",
              "      gap: 12px;\n",
              "    }\n",
              "\n",
              "    .colab-df-convert {\n",
              "      background-color: #E8F0FE;\n",
              "      border: none;\n",
              "      border-radius: 50%;\n",
              "      cursor: pointer;\n",
              "      display: none;\n",
              "      fill: #1967D2;\n",
              "      height: 32px;\n",
              "      padding: 0 0 0 0;\n",
              "      width: 32px;\n",
              "    }\n",
              "\n",
              "    .colab-df-convert:hover {\n",
              "      background-color: #E2EBFA;\n",
              "      box-shadow: 0px 1px 2px rgba(60, 64, 67, 0.3), 0px 1px 3px 1px rgba(60, 64, 67, 0.15);\n",
              "      fill: #174EA6;\n",
              "    }\n",
              "\n",
              "    [theme=dark] .colab-df-convert {\n",
              "      background-color: #3B4455;\n",
              "      fill: #D2E3FC;\n",
              "    }\n",
              "\n",
              "    [theme=dark] .colab-df-convert:hover {\n",
              "      background-color: #434B5C;\n",
              "      box-shadow: 0px 1px 3px 1px rgba(0, 0, 0, 0.15);\n",
              "      filter: drop-shadow(0px 1px 2px rgba(0, 0, 0, 0.3));\n",
              "      fill: #FFFFFF;\n",
              "    }\n",
              "  </style>\n",
              "\n",
              "      <script>\n",
              "        const buttonEl =\n",
              "          document.querySelector('#df-fe46ebc5-4c34-46eb-b367-a5d25c9d9e36 button.colab-df-convert');\n",
              "        buttonEl.style.display =\n",
              "          google.colab.kernel.accessAllowed ? 'block' : 'none';\n",
              "\n",
              "        async function convertToInteractive(key) {\n",
              "          const element = document.querySelector('#df-fe46ebc5-4c34-46eb-b367-a5d25c9d9e36');\n",
              "          const dataTable =\n",
              "            await google.colab.kernel.invokeFunction('convertToInteractive',\n",
              "                                                     [key], {});\n",
              "          if (!dataTable) return;\n",
              "\n",
              "          const docLinkHtml = 'Like what you see? Visit the ' +\n",
              "            '<a target=\"_blank\" href=https://colab.research.google.com/notebooks/data_table.ipynb>data table notebook</a>'\n",
              "            + ' to learn more about interactive tables.';\n",
              "          element.innerHTML = '';\n",
              "          dataTable['output_type'] = 'display_data';\n",
              "          await google.colab.output.renderOutput(dataTable, element);\n",
              "          const docLink = document.createElement('div');\n",
              "          docLink.innerHTML = docLinkHtml;\n",
              "          element.appendChild(docLink);\n",
              "        }\n",
              "      </script>\n",
              "    </div>\n",
              "  </div>\n",
              "  "
            ],
            "text/plain": [
              "  InvoiceNo StockCode  ... CustomerID         Country\n",
              "0    536365    85123A  ...    17850.0  United Kingdom\n",
              "1    536365     71053  ...    17850.0  United Kingdom\n",
              "\n",
              "[2 rows x 8 columns]"
            ]
          },
          "metadata": {},
          "execution_count": 6
        }
      ]
    },
    {
      "cell_type": "markdown",
      "source": [
        "**3. Statistics or MEASUREMENTS**\n",
        "\n",
        "As there is a huge no. of experiences, we take the help of statistics to **measure** each and every features in different dimensions and thus step by step, will find the most important features or the exact way to decode the experiences.\n",
        "\n",
        "“**what gets measured gets done**“."
      ],
      "metadata": {
        "id": "6lTXQMCxdWsY"
      }
    },
    {
      "cell_type": "code",
      "source": [
        "customer_df.info()"
      ],
      "metadata": {
        "colab": {
          "base_uri": "https://localhost:8080/"
        },
        "id": "yZMeWDB60hx0",
        "outputId": "96ebef38-5e1f-4a49-e6b2-c2b76daac5c4"
      },
      "execution_count": 7,
      "outputs": [
        {
          "output_type": "stream",
          "name": "stdout",
          "text": [
            "<class 'pandas.core.frame.DataFrame'>\n",
            "RangeIndex: 541909 entries, 0 to 541908\n",
            "Data columns (total 8 columns):\n",
            " #   Column       Non-Null Count   Dtype         \n",
            "---  ------       --------------   -----         \n",
            " 0   InvoiceNo    541909 non-null  object        \n",
            " 1   StockCode    541909 non-null  object        \n",
            " 2   Description  540455 non-null  object        \n",
            " 3   Quantity     541909 non-null  int64         \n",
            " 4   InvoiceDate  541909 non-null  datetime64[ns]\n",
            " 5   UnitPrice    541909 non-null  float64       \n",
            " 6   CustomerID   406829 non-null  float64       \n",
            " 7   Country      541909 non-null  object        \n",
            "dtypes: datetime64[ns](1), float64(2), int64(1), object(4)\n",
            "memory usage: 33.1+ MB\n"
          ]
        }
      ]
    },
    {
      "cell_type": "code",
      "source": [
        "customer_df.describe()"
      ],
      "metadata": {
        "colab": {
          "base_uri": "https://localhost:8080/",
          "height": 300
        },
        "id": "m2TGtOKD0kGG",
        "outputId": "712100fc-3ff2-4516-8063-7e35ff1e1ecc"
      },
      "execution_count": 8,
      "outputs": [
        {
          "output_type": "execute_result",
          "data": {
            "text/html": [
              "\n",
              "  <div id=\"df-82e82791-1a8b-4943-8c54-0fd8ed5ad185\">\n",
              "    <div class=\"colab-df-container\">\n",
              "      <div>\n",
              "<style scoped>\n",
              "    .dataframe tbody tr th:only-of-type {\n",
              "        vertical-align: middle;\n",
              "    }\n",
              "\n",
              "    .dataframe tbody tr th {\n",
              "        vertical-align: top;\n",
              "    }\n",
              "\n",
              "    .dataframe thead th {\n",
              "        text-align: right;\n",
              "    }\n",
              "</style>\n",
              "<table border=\"1\" class=\"dataframe\">\n",
              "  <thead>\n",
              "    <tr style=\"text-align: right;\">\n",
              "      <th></th>\n",
              "      <th>Quantity</th>\n",
              "      <th>UnitPrice</th>\n",
              "      <th>CustomerID</th>\n",
              "    </tr>\n",
              "  </thead>\n",
              "  <tbody>\n",
              "    <tr>\n",
              "      <th>count</th>\n",
              "      <td>541909.000000</td>\n",
              "      <td>541909.000000</td>\n",
              "      <td>406829.000000</td>\n",
              "    </tr>\n",
              "    <tr>\n",
              "      <th>mean</th>\n",
              "      <td>9.552250</td>\n",
              "      <td>4.611114</td>\n",
              "      <td>15287.690570</td>\n",
              "    </tr>\n",
              "    <tr>\n",
              "      <th>std</th>\n",
              "      <td>218.081158</td>\n",
              "      <td>96.759853</td>\n",
              "      <td>1713.600303</td>\n",
              "    </tr>\n",
              "    <tr>\n",
              "      <th>min</th>\n",
              "      <td>-80995.000000</td>\n",
              "      <td>-11062.060000</td>\n",
              "      <td>12346.000000</td>\n",
              "    </tr>\n",
              "    <tr>\n",
              "      <th>25%</th>\n",
              "      <td>1.000000</td>\n",
              "      <td>1.250000</td>\n",
              "      <td>13953.000000</td>\n",
              "    </tr>\n",
              "    <tr>\n",
              "      <th>50%</th>\n",
              "      <td>3.000000</td>\n",
              "      <td>2.080000</td>\n",
              "      <td>15152.000000</td>\n",
              "    </tr>\n",
              "    <tr>\n",
              "      <th>75%</th>\n",
              "      <td>10.000000</td>\n",
              "      <td>4.130000</td>\n",
              "      <td>16791.000000</td>\n",
              "    </tr>\n",
              "    <tr>\n",
              "      <th>max</th>\n",
              "      <td>80995.000000</td>\n",
              "      <td>38970.000000</td>\n",
              "      <td>18287.000000</td>\n",
              "    </tr>\n",
              "  </tbody>\n",
              "</table>\n",
              "</div>\n",
              "      <button class=\"colab-df-convert\" onclick=\"convertToInteractive('df-82e82791-1a8b-4943-8c54-0fd8ed5ad185')\"\n",
              "              title=\"Convert this dataframe to an interactive table.\"\n",
              "              style=\"display:none;\">\n",
              "        \n",
              "  <svg xmlns=\"http://www.w3.org/2000/svg\" height=\"24px\"viewBox=\"0 0 24 24\"\n",
              "       width=\"24px\">\n",
              "    <path d=\"M0 0h24v24H0V0z\" fill=\"none\"/>\n",
              "    <path d=\"M18.56 5.44l.94 2.06.94-2.06 2.06-.94-2.06-.94-.94-2.06-.94 2.06-2.06.94zm-11 1L8.5 8.5l.94-2.06 2.06-.94-2.06-.94L8.5 2.5l-.94 2.06-2.06.94zm10 10l.94 2.06.94-2.06 2.06-.94-2.06-.94-.94-2.06-.94 2.06-2.06.94z\"/><path d=\"M17.41 7.96l-1.37-1.37c-.4-.4-.92-.59-1.43-.59-.52 0-1.04.2-1.43.59L10.3 9.45l-7.72 7.72c-.78.78-.78 2.05 0 2.83L4 21.41c.39.39.9.59 1.41.59.51 0 1.02-.2 1.41-.59l7.78-7.78 2.81-2.81c.8-.78.8-2.07 0-2.86zM5.41 20L4 18.59l7.72-7.72 1.47 1.35L5.41 20z\"/>\n",
              "  </svg>\n",
              "      </button>\n",
              "      \n",
              "  <style>\n",
              "    .colab-df-container {\n",
              "      display:flex;\n",
              "      flex-wrap:wrap;\n",
              "      gap: 12px;\n",
              "    }\n",
              "\n",
              "    .colab-df-convert {\n",
              "      background-color: #E8F0FE;\n",
              "      border: none;\n",
              "      border-radius: 50%;\n",
              "      cursor: pointer;\n",
              "      display: none;\n",
              "      fill: #1967D2;\n",
              "      height: 32px;\n",
              "      padding: 0 0 0 0;\n",
              "      width: 32px;\n",
              "    }\n",
              "\n",
              "    .colab-df-convert:hover {\n",
              "      background-color: #E2EBFA;\n",
              "      box-shadow: 0px 1px 2px rgba(60, 64, 67, 0.3), 0px 1px 3px 1px rgba(60, 64, 67, 0.15);\n",
              "      fill: #174EA6;\n",
              "    }\n",
              "\n",
              "    [theme=dark] .colab-df-convert {\n",
              "      background-color: #3B4455;\n",
              "      fill: #D2E3FC;\n",
              "    }\n",
              "\n",
              "    [theme=dark] .colab-df-convert:hover {\n",
              "      background-color: #434B5C;\n",
              "      box-shadow: 0px 1px 3px 1px rgba(0, 0, 0, 0.15);\n",
              "      filter: drop-shadow(0px 1px 2px rgba(0, 0, 0, 0.3));\n",
              "      fill: #FFFFFF;\n",
              "    }\n",
              "  </style>\n",
              "\n",
              "      <script>\n",
              "        const buttonEl =\n",
              "          document.querySelector('#df-82e82791-1a8b-4943-8c54-0fd8ed5ad185 button.colab-df-convert');\n",
              "        buttonEl.style.display =\n",
              "          google.colab.kernel.accessAllowed ? 'block' : 'none';\n",
              "\n",
              "        async function convertToInteractive(key) {\n",
              "          const element = document.querySelector('#df-82e82791-1a8b-4943-8c54-0fd8ed5ad185');\n",
              "          const dataTable =\n",
              "            await google.colab.kernel.invokeFunction('convertToInteractive',\n",
              "                                                     [key], {});\n",
              "          if (!dataTable) return;\n",
              "\n",
              "          const docLinkHtml = 'Like what you see? Visit the ' +\n",
              "            '<a target=\"_blank\" href=https://colab.research.google.com/notebooks/data_table.ipynb>data table notebook</a>'\n",
              "            + ' to learn more about interactive tables.';\n",
              "          element.innerHTML = '';\n",
              "          dataTable['output_type'] = 'display_data';\n",
              "          await google.colab.output.renderOutput(dataTable, element);\n",
              "          const docLink = document.createElement('div');\n",
              "          docLink.innerHTML = docLinkHtml;\n",
              "          element.appendChild(docLink);\n",
              "        }\n",
              "      </script>\n",
              "    </div>\n",
              "  </div>\n",
              "  "
            ],
            "text/plain": [
              "            Quantity      UnitPrice     CustomerID\n",
              "count  541909.000000  541909.000000  406829.000000\n",
              "mean        9.552250       4.611114   15287.690570\n",
              "std       218.081158      96.759853    1713.600303\n",
              "min    -80995.000000  -11062.060000   12346.000000\n",
              "25%         1.000000       1.250000   13953.000000\n",
              "50%         3.000000       2.080000   15152.000000\n",
              "75%        10.000000       4.130000   16791.000000\n",
              "max     80995.000000   38970.000000   18287.000000"
            ]
          },
          "metadata": {},
          "execution_count": 8
        }
      ]
    },
    {
      "cell_type": "code",
      "source": [
        "for column_name in customer_df.columns:\n",
        "  print(colored(f\"Unique values for {column_name}:\",'blue', attrs=['bold']))\n",
        "  print(customer_df[column_name].unique())"
      ],
      "metadata": {
        "id": "wSQyh0hv0oyw",
        "colab": {
          "base_uri": "https://localhost:8080/"
        },
        "outputId": "70e31d5b-6689-4f6e-fb61-22e696db1feb"
      },
      "execution_count": 9,
      "outputs": [
        {
          "output_type": "stream",
          "name": "stdout",
          "text": [
            "\u001b[1m\u001b[34mUnique values for InvoiceNo:\u001b[0m\n",
            "[536365 536366 536367 ... 581585 581586 581587]\n",
            "\u001b[1m\u001b[34mUnique values for StockCode:\u001b[0m\n",
            "['85123A' 71053 '84406B' ... '90214U' '47591b' 23843]\n",
            "\u001b[1m\u001b[34mUnique values for Description:\u001b[0m\n",
            "['WHITE HANGING HEART T-LIGHT HOLDER' 'WHITE METAL LANTERN'\n",
            " 'CREAM CUPID HEARTS COAT HANGER' ... 'lost'\n",
            " 'CREAM HANGING HEART T-LIGHT HOLDER' 'PAPER CRAFT , LITTLE BIRDIE']\n",
            "\u001b[1m\u001b[34mUnique values for Quantity:\u001b[0m\n",
            "[     6      8      2     32      3      4     24     12     48     18\n",
            "     20     36     80     64     10    120     96     23      5      1\n",
            "     -1     50     40    100    192    432    144    288    -12    -24\n",
            "     16      9    128     25     30     28      7     56     72    200\n",
            "    600    480     -6     14     -2     11     33     13     -4     -5\n",
            "     -7     -3     70    252     60    216    384    -10     27     15\n",
            "     22     19     17     21     34     47    108     52  -9360    -38\n",
            "     75    270     42    240     90    320   1824    204     69    -36\n",
            "   -192   -144    160   2880   1400     39    -48    -50     26   1440\n",
            "     31     82     78     97     98     35     57    -20    110    -22\n",
            "    -30    -70   -130    -80   -120    -40    -25    -14    -15    -69\n",
            "   -140   -320     -8    720    156    324     38     37     49     95\n",
            "     -9    -11     29     41    -72    -35    -21    -43    -19    -18\n",
            "    -44    402    378    150    300     54    104     67    258     66\n",
            "     44     55     46     99     61    408    972    208   1008   1000\n",
            "    -77   1488    250   1394    400   -223   -150    -13    -33   -723\n",
            "   -177     79     84    -32   -100    -28    272   -145    -47    -96\n",
            "    113     45    106     68    267    115     65   1728    -60    -16\n",
            "     53   -240     76    460     71     43    213     58    576   2400\n",
            "    500    180   -300   -500    -23    752    960   1296    210    172\n",
            "    215    129    138    116    135    197   -106    -54    -17   -939\n",
            "    147    168    256   -201    -53    -29  -2600   -990   -290    -45\n",
            "    860   1010   1356   1284    186    114    360   1930   2000   3114\n",
            "   1300    670    111    211     59   -310    -61    -41    176    648\n",
            "     62  74215 -74215    -64    -84     89  -1400     73    -57    112\n",
            "    456    -59    -31   5568   2560    136    900   -600    -42    -94\n",
            "   -207    -52    130   -206   2592    420    800    101   1200    864\n",
            "   -217     94  -1430   1287   -162   -230   -173   -390   -234    504\n",
            "    123    118    -76   -200   1056   1500    280    407    141    124\n",
            "    -99     51    -92   -741   3906   -400   -114    102   1152    -88\n",
            "    198    117     86   -720    125    -86   -391    -87   -278    140\n",
            "    228   -154  -3000     81   -675   -210   -345   -975  -1200  -1121\n",
            "    -27   -541  -1277   -197   3000  -1100    -63  -5368    219   -259\n",
            "    232    -82   -178    170   -110    768     88    700   -102   2160\n",
            "   -323   -450   -232    -83   -153   -524  -2472    -49   -105    342\n",
            "    304    167    -34    640    175    220     74     93    164    163\n",
            "     63    637    122    158    165    350    -46    -75   -690    -39\n",
            "    -66     83    312   -180    392   -624   -194    -26    -62    -37\n",
            "    -91   -139   -158  -1479    -55   -576   -750    330    151    -93\n",
            "   -432    -58  -1092   -670  -1300  -1930  -2000  -3114    462    -65\n",
            "    -68    492   -620    273    -90   -170  -1512    -51     85    -56\n",
            "   -160   -360    105   -960  -2376   1350    428  -1350    336   -786\n",
            "   -590   -168   -101    -71    132   -413   -664    227   2700    222\n",
            "    246    906    756    888    552    -97    224    738    608   -212\n",
            "   4300    146    143    276   -125   -116   -108   4000   -304   -272\n",
            "  -1206    -95   1600    323   -161   -472   -618   -204   1515  -1515\n",
            "  -9058  -9600    660   -420   -126   -220   -271  -1440    264    188\n",
            "    588    612    152   -324   -480   -164    -78   -118    430  -1681\n",
            "     87    155    701    828    540    696    560   -250   -408   -179\n",
            "    121   -124    512   -251  -3100   3100   -169    126    291   3186\n",
            "  -2834   -109    109   -121   -530   -227    261   -346    352    142\n",
            "    107   -188  -1060   -342   -288    348   1900    157   -343   -455\n",
            "    425    968    684    824   -828   -701    196    248    410    236\n",
            "    230   -156   -553    145    448    245   -252   -334   -318   -113\n",
            "   -115    171   -242    840   -967   -203  -3167   -443  -1897    225\n",
            "   -434    750   -682   -484    682    344   -635   -117  -3667    450\n",
            "    310    494   -384     92   1788   -138    624    744    416    496\n",
            "    396    306   1878   1944    666    708   1428    852   1412    528\n",
            "   -756   -752   -152    -85   -312    -79   -147    -67   -131    183\n",
            "   -209   -186   -231   -129   -458   -275  -2880   1540    672   -800\n",
            "   -430   -380    -74   -840  -1296   -365   -104   -270    -73   -306\n",
            "     91    255    468   -468   -111   -184   -103   -335   4800   -112\n",
            "  -1000    912   1992    184    148   -657  -1671  -1158  -2618  -2003\n",
            "   -674  -4830   -905  -1128    832    992    630   1020   2100    162\n",
            "  -1560  -1284    -81    314    370    131    133    484    149    153\n",
            "    257    139    137    628    179   1820    478    335    253    242\n",
            "    375   -276   -256    281    193    181    404    244    207    199\n",
            "   1130    326    654    688    268    249   -864    234  -1510   -550\n",
            "   -244   -132   -327   -313    279   -398   -280    374   -504   -696\n",
            "   -149   -224   -428    212   -267   -175  12540    760    -98    774\n",
            "   -151   2040  -1131   -135   1120     77   -900    177    490    388\n",
            "    620   1404   -155   -355   -337  -1050   -338    205   -235    698\n",
            "  80995 -80995]\n",
            "\u001b[1m\u001b[34mUnique values for InvoiceDate:\u001b[0m\n",
            "['2010-12-01T08:26:00.000000000' '2010-12-01T08:28:00.000000000'\n",
            " '2010-12-01T08:34:00.000000000' ... '2011-12-09T12:31:00.000000000'\n",
            " '2011-12-09T12:49:00.000000000' '2011-12-09T12:50:00.000000000']\n",
            "\u001b[1m\u001b[34mUnique values for UnitPrice:\u001b[0m\n",
            "[   2.55    3.39    2.75 ...  933.17 1714.17  224.69]\n",
            "\u001b[1m\u001b[34mUnique values for CustomerID:\u001b[0m\n",
            "[17850. 13047. 12583. ... 13298. 14569. 12713.]\n",
            "\u001b[1m\u001b[34mUnique values for Country:\u001b[0m\n",
            "['United Kingdom' 'France' 'Australia' 'Netherlands' 'Germany' 'Norway'\n",
            " 'EIRE' 'Switzerland' 'Spain' 'Poland' 'Portugal' 'Italy' 'Belgium'\n",
            " 'Lithuania' 'Japan' 'Iceland' 'Channel Islands' 'Denmark' 'Cyprus'\n",
            " 'Sweden' 'Austria' 'Israel' 'Finland' 'Bahrain' 'Greece' 'Hong Kong'\n",
            " 'Singapore' 'Lebanon' 'United Arab Emirates' 'Saudi Arabia'\n",
            " 'Czech Republic' 'Canada' 'Unspecified' 'Brazil' 'USA'\n",
            " 'European Community' 'Malta' 'RSA']\n"
          ]
        }
      ]
    },
    {
      "cell_type": "code",
      "source": [
        "for column_name in customer_df.columns:\n",
        "  print(colored(f\"No. of unique values for {column_name}:\",'green', attrs=['bold']))\n",
        "  print(customer_df[column_name].nunique())"
      ],
      "metadata": {
        "colab": {
          "base_uri": "https://localhost:8080/"
        },
        "id": "FVz0V1SKIAWK",
        "outputId": "bbd82608-7192-4efc-a09b-8dfae779a599"
      },
      "execution_count": 10,
      "outputs": [
        {
          "output_type": "stream",
          "name": "stdout",
          "text": [
            "\u001b[1m\u001b[32mNo. of unique values for InvoiceNo:\u001b[0m\n",
            "25900\n",
            "\u001b[1m\u001b[32mNo. of unique values for StockCode:\u001b[0m\n",
            "4070\n",
            "\u001b[1m\u001b[32mNo. of unique values for Description:\u001b[0m\n",
            "4223\n",
            "\u001b[1m\u001b[32mNo. of unique values for Quantity:\u001b[0m\n",
            "722\n",
            "\u001b[1m\u001b[32mNo. of unique values for InvoiceDate:\u001b[0m\n",
            "23260\n",
            "\u001b[1m\u001b[32mNo. of unique values for UnitPrice:\u001b[0m\n",
            "1630\n",
            "\u001b[1m\u001b[32mNo. of unique values for CustomerID:\u001b[0m\n",
            "4372\n",
            "\u001b[1m\u001b[32mNo. of unique values for Country:\u001b[0m\n",
            "38\n"
          ]
        }
      ]
    },
    {
      "cell_type": "code",
      "source": [
        "for column_name in customer_df.columns:\n",
        "  print(colored(f\"No. of null values for {column_name}:\",'magenta', attrs=['bold']))\n",
        "  print(customer_df[column_name].isnull().sum())"
      ],
      "metadata": {
        "colab": {
          "base_uri": "https://localhost:8080/"
        },
        "id": "c2NsX_vMIBBS",
        "outputId": "cf92a7cb-491e-4ab8-f9ee-68b8afa3d81f"
      },
      "execution_count": 11,
      "outputs": [
        {
          "output_type": "stream",
          "name": "stdout",
          "text": [
            "\u001b[1m\u001b[35mNo. of null values for InvoiceNo:\u001b[0m\n",
            "0\n",
            "\u001b[1m\u001b[35mNo. of null values for StockCode:\u001b[0m\n",
            "0\n",
            "\u001b[1m\u001b[35mNo. of null values for Description:\u001b[0m\n",
            "1454\n",
            "\u001b[1m\u001b[35mNo. of null values for Quantity:\u001b[0m\n",
            "0\n",
            "\u001b[1m\u001b[35mNo. of null values for InvoiceDate:\u001b[0m\n",
            "0\n",
            "\u001b[1m\u001b[35mNo. of null values for UnitPrice:\u001b[0m\n",
            "0\n",
            "\u001b[1m\u001b[35mNo. of null values for CustomerID:\u001b[0m\n",
            "135080\n",
            "\u001b[1m\u001b[35mNo. of null values for Country:\u001b[0m\n",
            "0\n"
          ]
        }
      ]
    },
    {
      "cell_type": "code",
      "source": [
        "customer_df.columns"
      ],
      "metadata": {
        "colab": {
          "base_uri": "https://localhost:8080/"
        },
        "id": "dzdI7yAS90kv",
        "outputId": "e40a4bd3-24f8-42ad-9c4b-fd1c5a7fa81d"
      },
      "execution_count": 12,
      "outputs": [
        {
          "output_type": "execute_result",
          "data": {
            "text/plain": [
              "Index(['InvoiceNo', 'StockCode', 'Description', 'Quantity', 'InvoiceDate',\n",
              "       'UnitPrice', 'CustomerID', 'Country'],\n",
              "      dtype='object')"
            ]
          },
          "metadata": {},
          "execution_count": 12
        }
      ]
    },
    {
      "cell_type": "code",
      "source": [
        "# Finding out the final important columns considering type of unique values, less no. of unique values and less no. of null values\n",
        "important_columns=['InvoiceNo', 'Description', 'Quantity', 'InvoiceDate','UnitPrice', 'Country']"
      ],
      "metadata": {
        "id": "yORjRh3mdmoK"
      },
      "execution_count": 14,
      "outputs": []
    },
    {
      "cell_type": "markdown",
      "source": [
        "**4. Data Cleaning**\n",
        "\n",
        "Now we can create a clean experience set with important features. \n",
        "\n",
        "In this step, we treat the missing values or \"?\" values through imputation if required.\n",
        "\n",
        "If there is any string containing a Python literal in any of the important feature, we must evaluate them\n",
        "\n",
        "We may also create new feature if found important during the analysis.\n",
        "\n",
        "We check the statistics further on clean data."
      ],
      "metadata": {
        "id": "3l3A_wlOdszr"
      }
    },
    {
      "cell_type": "code",
      "source": [
        "customer_df=customer_df[important_columns]"
      ],
      "metadata": {
        "id": "nzGyiW0odv2a"
      },
      "execution_count": 15,
      "outputs": []
    },
    {
      "cell_type": "code",
      "source": [
        "for column_name in customer_df.columns:\n",
        "  print(colored(f\"Value counts for {column_name}:\", attrs=['bold']))\n",
        "  print(customer_df[column_name].value_counts())"
      ],
      "metadata": {
        "colab": {
          "base_uri": "https://localhost:8080/"
        },
        "id": "0EZ9umiUIAj5",
        "outputId": "594ffbaf-a9ec-45f0-9e03-d4275862f40e"
      },
      "execution_count": 16,
      "outputs": [
        {
          "output_type": "stream",
          "name": "stdout",
          "text": [
            "\u001b[1mValue counts for InvoiceNo:\u001b[0m\n",
            "573585     1114\n",
            "581219      749\n",
            "581492      731\n",
            "580729      721\n",
            "558475      705\n",
            "           ... \n",
            "C558095       1\n",
            "563742        1\n",
            "563740        1\n",
            "C552863       1\n",
            "568372        1\n",
            "Name: InvoiceNo, Length: 25900, dtype: int64\n",
            "\u001b[1mValue counts for Description:\u001b[0m\n",
            "WHITE HANGING HEART T-LIGHT HOLDER    2369\n",
            "REGENCY CAKESTAND 3 TIER              2200\n",
            "JUMBO BAG RED RETROSPOT               2159\n",
            "PARTY BUNTING                         1727\n",
            "LUNCH BAG RED RETROSPOT               1638\n",
            "                                      ... \n",
            "MINT DINER CLOCK                         1\n",
            "?sold as sets?                           1\n",
            "Incorrect stock entry.                   1\n",
            "FLOWER SHOP DESIGN MUG                   1\n",
            "CAKESTAND, 3 TIER, LOVEHEART             1\n",
            "Name: Description, Length: 4223, dtype: int64\n",
            "\u001b[1mValue counts for Quantity:\u001b[0m\n",
            " 1       148227\n",
            " 2        81829\n",
            " 12       61063\n",
            " 6        40868\n",
            " 4        38484\n",
            "          ...  \n",
            " 1287         1\n",
            "-5368         1\n",
            " 267          1\n",
            "-244          1\n",
            " 512          1\n",
            "Name: Quantity, Length: 722, dtype: int64\n",
            "\u001b[1mValue counts for InvoiceDate:\u001b[0m\n",
            "2011-10-31 14:41:00    1114\n",
            "2011-12-08 09:28:00     749\n",
            "2011-12-09 10:03:00     731\n",
            "2011-12-05 17:24:00     721\n",
            "2011-06-29 15:58:00     705\n",
            "                       ... \n",
            "2011-02-23 11:35:00       1\n",
            "2011-09-22 14:01:00       1\n",
            "2011-11-30 14:34:00       1\n",
            "2011-03-30 17:20:00       1\n",
            "2011-06-06 11:22:00       1\n",
            "Name: InvoiceDate, Length: 23260, dtype: int64\n",
            "\u001b[1mValue counts for UnitPrice:\u001b[0m\n",
            "1.25       50496\n",
            "1.65       38181\n",
            "0.85       28497\n",
            "2.95       27768\n",
            "0.42       24533\n",
            "           ...  \n",
            "4575.64        1\n",
            "125.96         1\n",
            "147.13         1\n",
            "3060.60        1\n",
            "244.51         1\n",
            "Name: UnitPrice, Length: 1630, dtype: int64\n",
            "\u001b[1mValue counts for Country:\u001b[0m\n",
            "United Kingdom          495478\n",
            "Germany                   9495\n",
            "France                    8557\n",
            "EIRE                      8196\n",
            "Spain                     2533\n",
            "Netherlands               2371\n",
            "Belgium                   2069\n",
            "Switzerland               2002\n",
            "Portugal                  1519\n",
            "Australia                 1259\n",
            "Norway                    1086\n",
            "Italy                      803\n",
            "Channel Islands            758\n",
            "Finland                    695\n",
            "Cyprus                     622\n",
            "Sweden                     462\n",
            "Unspecified                446\n",
            "Austria                    401\n",
            "Denmark                    389\n",
            "Japan                      358\n",
            "Poland                     341\n",
            "Israel                     297\n",
            "USA                        291\n",
            "Hong Kong                  288\n",
            "Singapore                  229\n",
            "Iceland                    182\n",
            "Canada                     151\n",
            "Greece                     146\n",
            "Malta                      127\n",
            "United Arab Emirates        68\n",
            "European Community          61\n",
            "RSA                         58\n",
            "Lebanon                     45\n",
            "Lithuania                   35\n",
            "Brazil                      32\n",
            "Czech Republic              30\n",
            "Bahrain                     19\n",
            "Saudi Arabia                10\n",
            "Name: Country, dtype: int64\n"
          ]
        }
      ]
    },
    {
      "cell_type": "markdown",
      "source": [
        "**5. Data Visualization**\n",
        "\n",
        "When we know all the important features of our experiences, we can go a step ahead by finding the relationship among features. Here, we take the help of visualization because\n",
        "\n",
        "**\"A picture is worth a thousand words\"**"
      ],
      "metadata": {
        "id": "LOg6LPt4d41i"
      }
    },
    {
      "cell_type": "code",
      "source": [
        ""
      ],
      "metadata": {
        "id": "9ge36br6IVpL"
      },
      "execution_count": null,
      "outputs": []
    },
    {
      "cell_type": "markdown",
      "source": [
        "**6. Anomaly Detection**\n",
        "\n",
        "While, we are finding out the **general formula** from the experiences, we should identify the outlier or **exceptional observations** for all the important features and keep them aside during the analysis."
      ],
      "metadata": {
        "id": "A_I_7IeId8hr"
      }
    },
    {
      "cell_type": "markdown",
      "source": [
        "**7. Conclusion**"
      ],
      "metadata": {
        "id": "-oeD3iiid_-L"
      }
    }
  ]
}